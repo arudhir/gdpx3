{
 "cells": [
  {
   "cell_type": "markdown",
   "metadata": {},
   "source": [
    "# Preprocess GDPX3's `median_features.csv`\n",
    "\n",
    "- Turn it into AnnData for eventual downstream convenience\n",
    "- Scale against controls\n",
    "- Feature select with PyCytominer"
   ]
  },
  {
   "cell_type": "code",
   "execution_count": 2,
   "metadata": {},
   "outputs": [],
   "source": [
    "import math\n",
    "import itertools\n",
    "import numpy as np\n",
    "import pandas as pd\n",
    "import matplotlib.pyplot as plt\n",
    "import seaborn as sns"
   ]
  },
  {
   "cell_type": "markdown",
   "metadata": {},
   "source": [
    "# Read in files"
   ]
  },
  {
   "cell_type": "code",
   "execution_count": null,
   "metadata": {},
   "outputs": [],
   "source": [
    "metadata_file = '../data/ginkgo-datapoints_gdpx3_data-package/Ginkgo Datapoints_GDPx3_metadata.csv'\n",
    "features_file = '../data/median_features.csv'\n",
    "obs = (\n",
    "    pd.read_csv(metadata_file)\n",
    "      .set_index('sample_id')\n",
    ")\n",
    "X = (\n",
    "    pd.read_csv(features_file)\n",
    "      .drop('container_id', axis=1)\n",
    "      .set_index('sample_id')\n",
    ")\n",
    "\n",
    "print(obs.shape)\n",
    "print(X.shape)"
   ]
  },
  {
   "cell_type": "markdown",
   "metadata": {},
   "source": [
    "# Make sure they share indices (sample_id)"
   ]
  },
  {
   "cell_type": "code",
   "execution_count": 6,
   "metadata": {},
   "outputs": [],
   "source": [
    "idx = obs.index.intersection(X.index)\n",
    "obs = obs.reindex(idx)\n",
    "X = X.reindex(idx)"
   ]
  },
  {
   "cell_type": "markdown",
   "metadata": {},
   "source": [
    "# Make AnnData"
   ]
  },
  {
   "cell_type": "code",
   "execution_count": null,
   "metadata": {},
   "outputs": [],
   "source": [
    "from anndata import AnnData\n",
    "adata = AnnData(X=X, obs=obs)\n",
    "adata"
   ]
  },
  {
   "cell_type": "markdown",
   "metadata": {},
   "source": [
    "# Scale with respect to container + % DMSO"
   ]
  },
  {
   "cell_type": "code",
   "execution_count": null,
   "metadata": {},
   "outputs": [],
   "source": [
    "from sklearn.preprocessing import RobustScaler\n",
    "\n",
    "def scale_per_group(\n",
    "    adata,\n",
    "    groupby_keys=['plate', 'percent_volume_dmso'],\n",
    "    control_label='DMSO',\n",
    "    source_layer=None,\n",
    "    target_layer='scaled',\n",
    "    strict=False\n",
    "):\n",
    "    \"\"\"\n",
    "    Scale features using RobustScaler fit on controls per group.\n",
    "    \n",
    "    Parameters:\n",
    "        adata : AnnData\n",
    "        groupby_keys : list of str\n",
    "            Columns in adata.obs to group by.\n",
    "        control_label : str\n",
    "            Label in 'compound' column to use as control.\n",
    "        source_layer : str or None\n",
    "            Source layer to scale. If None, uses adata.X.\n",
    "        target_layer : str\n",
    "            Layer to write scaled data into.\n",
    "        strict : bool\n",
    "            If True, raise error on missing controls; else skip group.\n",
    "    \"\"\"\n",
    "    X = adata.X if source_layer is None else adata.layers[source_layer]\n",
    "    X = X.copy()\n",
    "    obs = adata.obs.copy()\n",
    "\n",
    "    scaled = np.full(X.shape, np.nan, dtype=np.float32)\n",
    "\n",
    "    group_labels = obs[groupby_keys].astype(str).agg('|'.join, axis=1)\n",
    "\n",
    "    for group in group_labels.unique():\n",
    "        group_mask = group_labels == group\n",
    "        control_mask = group_mask & (obs['compound'] == control_label)\n",
    "\n",
    "        if np.sum(control_mask) < 2:\n",
    "            if strict:\n",
    "                raise ValueError(f\"Insufficient controls in group: {group}\")\n",
    "            continue\n",
    "\n",
    "        scaler = RobustScaler().fit(X[control_mask])\n",
    "        scaled[group_mask] = scaler.transform(X[group_mask])\n",
    "\n",
    "    adata.layers[target_layer] = scaled\n",
    "    return adata\n",
    "\n",
    "scale_per_group(adata, groupby_keys=['container_id', 'percent_volume_dmso'])"
   ]
  },
  {
   "cell_type": "markdown",
   "metadata": {},
   "source": [
    "# Feature select"
   ]
  },
  {
   "cell_type": "code",
   "execution_count": null,
   "metadata": {},
   "outputs": [],
   "source": [
    "from pycytominer import feature_select\n",
    "\n",
    "def apply_feature_selection(\n",
    "    adata,\n",
    "    layer='scaled',\n",
    "    operations=['variance_threshold', 'correlation_threshold'],\n",
    "    copy=True\n",
    "):\n",
    "    \"\"\"\n",
    "    Applies pycytominer feature_select to scaled data and updates adata with only selected features.\n",
    "\n",
    "    Parameters\n",
    "    ----------\n",
    "    adata : AnnData\n",
    "        The AnnData object to filter.\n",
    "    layer : str\n",
    "        Which layer to use for feature selection (e.g., 'scaled').\n",
    "    operations : list of str\n",
    "        Feature selection operations to apply.\n",
    "    copy : bool\n",
    "        If True, returns a new AnnData object. If False, modifies in place.\n",
    "\n",
    "    Returns\n",
    "    -------\n",
    "    AnnData\n",
    "        The filtered AnnData object.\n",
    "    \"\"\"\n",
    "    if copy:\n",
    "        adata = adata.copy()\n",
    "\n",
    "    print(f\"🔍 Applying feature selection on layer '{layer}' using operations: {operations}\")\n",
    "\n",
    "    X = adata.to_df(layer=layer)\n",
    "    feature_columns = X.columns.tolist()\n",
    "    print(f\"📊 Starting with {len(feature_columns):,} features\")\n",
    "\n",
    "    X_selected = feature_select(\n",
    "        X,\n",
    "        features=feature_columns,\n",
    "        operation=operations\n",
    "    )\n",
    "\n",
    "    print(f\"✅ Retained {X_selected.shape[1]:,} features after selection ({len(feature_columns) - X_selected.shape[1]:,} removed)\")\n",
    "\n",
    "    adata = adata[:, X_selected.columns]\n",
    "\n",
    "    return adata\n",
    "\n",
    "apply_feature_selection(adata=adata, copy=False)"
   ]
  }
 ],
 "metadata": {
  "kernelspec": {
   "display_name": ".venv",
   "language": "python",
   "name": "python3"
  },
  "language_info": {
   "codemirror_mode": {
    "name": "ipython",
    "version": 3
   },
   "file_extension": ".py",
   "mimetype": "text/x-python",
   "name": "python",
   "nbconvert_exporter": "python",
   "pygments_lexer": "ipython3",
   "version": "3.13.3"
  }
 },
 "nbformat": 4,
 "nbformat_minor": 2
}
